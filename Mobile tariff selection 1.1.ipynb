{
 "cells": [
  {
   "cell_type": "markdown",
   "metadata": {},
   "source": [
    "# Mobile tariff recommendation"
   ]
  },
  {
   "cell_type": "markdown",
   "metadata": {},
   "source": [
    "You have data on the behavior of customers who have already switched to these mobile plans. You need to build a model for the classification problem that selects the right tariff. You don't need any preprocessing, you've already done it.\n",
    "\n",
    "Build a model with as much accuracy as possible. To pass the project successfully, you need to get the correct answers to at least 0.75. Check the accuracy on the test sample yourself."
   ]
  },
  {
   "cell_type": "markdown",
   "metadata": {},
   "source": [
    "## introduction"
   ]
  },
  {
   "cell_type": "markdown",
   "metadata": {},
   "source": [
    "**Project Description**\n",
    "\n",
    "Mobile operator Megaline found out: many customers use archived tariffs. They want to build a system capable of analyzing customer behavior and offer users a new tariff: \"Smart\" or \"Ultra\".\n",
    "    \n",
    "You have data on the behavior of customers who have already switched to these tariffs. "
   ]
  },
  {
   "cell_type": "markdown",
   "metadata": {},
   "source": [
    "**Goals**\n",
    "\n",
    "You need to build a model for the classification problem that selects the appropriate rate. You don't need to preprocess the data - you have already done it."
   ]
  },
  {
   "cell_type": "markdown",
   "metadata": {},
   "source": [
    "**Objectives**\n",
    "\n",
    "Construct a model with the highest possible value of accuracy. To pass the project successfully, you need to get the percentage of correct answers to at least 0.75. Check the accuracy on the test sample yourself."
   ]
  },
  {
   "cell_type": "markdown",
   "metadata": {},
   "source": [
    "**Data Description**\n",
    "\n",
    "Each object in the dataset is information about the behavior of one user per month:\n",
    "\n",
    "`calls` - number of calls\n",
    "\n",
    "`minutes` - total duration of calls in minutes\n",
    "\n",
    "`messages` - number of sms messages\n",
    "\n",
    "`mb_used` - used Internet traffic in MB\n",
    "\n",
    "`is_ultra` - tariff plan used during the month (\"Ultra\" - 1, \"Smart\" - 0)"
   ]
  },
  {
   "cell_type": "markdown",
   "metadata": {},
   "source": [
    "## Data preprocessing"
   ]
  },
  {
   "cell_type": "code",
   "execution_count": null,
   "metadata": {},
   "outputs": [],
   "source": [
    "import pandas as pd\n",
    "from sklearn.tree import DecisionTreeClassifier\n",
    "from sklearn.ensemble import RandomForestClassifier\n",
    "from sklearn.linear_model import LogisticRegression\n",
    "from sklearn.model_selection import train_test_split\n",
    "from sklearn.metrics import mean_squared_error\n",
    "from sklearn.metrics import accuracy_score\n",
    "from joblib import dump\n",
    "\n",
    "import numpy as np\n",
    "import scipy.stats\n",
    "import warnings\n",
    "import graphviz\n",
    "from tqdm import tqdm_notebook\n",
    "\n",
    "from matplotlib.colors import ListedColormap\n",
    "import matplotlib.pyplot as plt\n",
    "import seaborn as sns\n",
    "\n",
    "from sklearn import datasets\n",
    "from sklearn.tree import DecisionTreeRegressor, export_graphviz\n",
    "from sklearn.ensemble import RandomForestRegressor\n"
   ]
  },
  {
   "cell_type": "code",
   "execution_count": null,
   "metadata": {},
   "outputs": [],
   "source": [
    "df = pd.read_csv('/datasets/users_behavior.csv')\n",
    "df.head()"
   ]
  },
  {
   "cell_type": "code",
   "execution_count": null,
   "metadata": {},
   "outputs": [],
   "source": [
    "df.info()"
   ]
  },
  {
   "cell_type": "markdown",
   "metadata": {},
   "source": [
    "**Split the data into samples**"
   ]
  },
  {
   "cell_type": "code",
   "execution_count": null,
   "metadata": {},
   "outputs": [],
   "source": [
    "df_train, df_test1 = train_test_split(df, test_size=0.4, random_state=12345)\n",
    "df_test, df_valid=train_test_split(df_test1, test_size=0.5, random_state=12345)\n",
    "print(df_train.shape)\n",
    "print(df_test.shape)\n",
    "print(df_valid.shape)"
   ]
  },
  {
   "cell_type": "markdown",
   "metadata": {},
   "source": [
    "## Model training"
   ]
  },
  {
   "cell_type": "markdown",
   "metadata": {},
   "source": [
    "**Let's set the features and target features**"
   ]
  },
  {
   "cell_type": "code",
   "execution_count": null,
   "metadata": {},
   "outputs": [],
   "source": [
    "features_train = df_train.drop(['is_ultra'], axis=1)\n",
    "target_train = df_train['is_ultra']\n",
    "features_valid = df_valid.drop(['is_ultra'], axis=1)\n",
    "target_valid = df_valid['is_ultra']\n",
    "features_test = df_test.drop(['is_ultra'], axis=1)\n",
    "target_test = df_test['is_ultra']"
   ]
  },
  {
   "cell_type": "markdown",
   "metadata": {},
   "source": [
    "### Random Tree"
   ]
  },
  {
   "cell_type": "markdown",
   "metadata": {},
   "source": [
    "**Adjust the the max_depth hyperparameter**"
   ]
  },
  {
   "cell_type": "code",
   "execution_count": null,
   "metadata": {},
   "outputs": [],
   "source": [
    "best_model = None\n",
    "best_result = 0\n",
    "train_acc, test_acc = [], []\n",
    "for depth in range(1, 11):\n",
    "    model = DecisionTreeClassifier(random_state=12345, max_depth=depth) \n",
    "    model.fit(features_train, target_train) \n",
    "    predictions_valid = model.predict(features_valid) \n",
    "    result = accuracy_score(target_valid, predictions_valid) \n",
    "    if result > best_result:\n",
    "        best_model = model\n",
    "        best_result = result\n",
    "\n",
    "    train_acc.append(accuracy_score(target_valid, model.predict(features_valid)))\n",
    "    test_acc.append(accuracy_score(target_test, model.predict(features_test)))\n",
    "\n",
    "predictions_test = model.predict(features_test)\n",
    "accuracy_test = accuracy_score(target_test, predictions_test)"
   ]
  },
  {
   "cell_type": "code",
   "execution_count": null,
   "metadata": {},
   "outputs": [],
   "source": [
    "df_tree1 = pd.DataFrame(list(zip(train_acc, test_acc)), columns =['train', 'test'])\n",
    "df_tree1.plot(grid=True)\n",
    "\n",
    "plt.show()"
   ]
  },
  {
   "cell_type": "markdown",
   "metadata": {},
   "source": [
    "**Conclusion:**\n",
    "    1. увеличение значения параметра max_depth приводит к увеличению точности классификации на обучающей выборке\n",
    "    2. с некоторого момента увеличение значения max_depth приводит к ухудшению точности на тестовой выборке, так как начинается стадия переобучения."
   ]
  },
  {
   "cell_type": "markdown",
   "metadata": {},
   "source": [
    "**Adjust the min_samples_leaf hyperparameter**"
   ]
  },
  {
   "cell_type": "code",
   "execution_count": null,
   "metadata": {},
   "outputs": [],
   "source": [
    "\n",
    "\n",
    "best_model = None\n",
    "best_result = 0\n",
    "train_acc, test_acc = [], []\n",
    "for min_samples_leaf in [1, 2, 10, 15, 16, 17]:\n",
    "    model = DecisionTreeClassifier(random_state=12345, min_samples_leaf = min_samples_leaf) # обучите модель с заданной глубиной дерева\n",
    "    model.fit(features_train, target_train) # обучите модель\n",
    "    predictions_valid = model.predict(features_valid) # получите предсказания модели\n",
    "    result = accuracy_score(target_valid, predictions_valid) # посчитайте качество модели\n",
    "    predictions = model.predict(features_valid)\n",
    "\n",
    "    if result > best_result:\n",
    "        best_model = model\n",
    "        best_result = result\n",
    "#    print(\"min_samples_leaf =\", min_samples_leaf, \": \", end='')\n",
    "#    print(accuracy_score(target_valid, predictions_valid))\n",
    "    train_acc.append(accuracy_score(target_valid, model.predict(features_valid)))\n",
    "    test_acc.append(accuracy_score(target_test, model.predict(features_test)))\n",
    "\n",
    "# < напишите здесь код расчёта на тестовой выборке >\n",
    "predictions_test = model.predict(features_test)\n",
    "accuracy_test = accuracy_score(target_test, predictions_test)\n",
    "#print(\"Тестовая выборка:\", accuracy_test)\n"
   ]
  },
  {
   "cell_type": "code",
   "execution_count": null,
   "metadata": {},
   "outputs": [],
   "source": [
    "df_tree2 = pd.DataFrame(list(zip(train_acc, test_acc)), columns =['train', 'test'])\n",
    "df_tree2.plot(grid=True)\n",
    "plt.show()"
   ]
  },
  {
   "cell_type": "markdown",
   "metadata": {},
   "source": [
    "**Conclusion:**\n",
    "\n",
    "As the value of min_samples_leaf increases, the quality on the training sample increases, then decreases and then increases again.\n",
    "\n",
    "It turns out that increasing the value of min_samples_leaf is one of the ways to combat overtraining when using solver trees."
   ]
  },
  {
   "cell_type": "markdown",
   "metadata": {},
   "source": [
    "**Adjust min_samples_split hyperparameter**"
   ]
  },
  {
   "cell_type": "code",
   "execution_count": null,
   "metadata": {},
   "outputs": [],
   "source": [
    "best_model = None\n",
    "best_result = 0\n",
    "train_acc, test_acc = [], []\n",
    "for min_samples_split in [2, 5, 10, 20, 25, 30]:\n",
    "    model = DecisionTreeClassifier(random_state=12345, min_samples_split = min_samples_split) \n",
    "    model.fit(features_train, target_train) \n",
    "    predictions_valid = model.predict(features_valid) \n",
    "    result = accuracy_score(target_valid, predictions_valid) \n",
    "    if result > best_result:\n",
    "        best_model = model\n",
    "        best_result = result\n",
    "\n",
    "    train_acc.append(accuracy_score(target_valid, model.predict(features_valid)))\n",
    "    test_acc.append(accuracy_score(target_test, model.predict(features_test)))\n",
    "    \n",
    "predictions_test = model.predict(features_test)\n",
    "accuracy_test = accuracy_score(target_test, predictions_test)"
   ]
  },
  {
   "cell_type": "code",
   "execution_count": null,
   "metadata": {},
   "outputs": [],
   "source": [
    "df_tree3 = pd.DataFrame(list(zip(train_acc, test_acc)), columns =['train', 'test'])\n",
    "df_tree3.plot(grid=True)\n",
    "\n",
    "plt.show()"
   ]
  },
  {
   "cell_type": "markdown",
   "metadata": {},
   "source": [
    "**Conclusion:**\n",
    "\n",
    "Similarly, as the min_samples_split value increases, the quality on the training sample increases, then decreases and then increases again. It turns out that increasing the min_samples_split parameter value is one of the ways to combat overtraining when using solver trees."
   ]
  },
  {
   "cell_type": "markdown",
   "metadata": {},
   "source": [
    "### Random Forest"
   ]
  },
  {
   "cell_type": "markdown",
   "metadata": {},
   "source": [
    "**Adjust the n_estimators hyperparameter**"
   ]
  },
  {
   "cell_type": "code",
   "execution_count": null,
   "metadata": {},
   "outputs": [],
   "source": [
    "best_model = None\n",
    "best_result = 0\n",
    "train_acc, test_acc = [], []\n",
    "for est in range(1, 11):\n",
    "    model = RandomForestClassifier(random_state=12345, n_estimators=est) \n",
    "    model.fit(features_train, target_train) \n",
    "    model.predict(features_valid)\n",
    "    result = model.score(features_valid, target_valid) \n",
    "    if result > best_result:\n",
    "        best_model = model\n",
    "        best_result = result\n",
    "\n",
    "    train_acc.append(accuracy_score(target_valid, model.predict(features_valid)))\n",
    "    test_acc.append(accuracy_score(target_test, model.predict(features_test)))\n",
    "        \n",
    "predictions_test = model.predict(features_test)\n",
    "accuracy_test = accuracy_score(target_test, predictions_test)"
   ]
  },
  {
   "cell_type": "code",
   "execution_count": null,
   "metadata": {},
   "outputs": [],
   "source": [
    "df_forest1 = pd.DataFrame(list(zip(train_acc, test_acc)), columns =['train', 'test'])\n",
    "df_forest1.plot(grid=True)\n",
    "plt.show()"
   ]
  },
  {
   "cell_type": "markdown",
   "metadata": {},
   "source": [
    "**Conclusion:**\n",
    "\n",
    "The parameter n_estimators shows the number of trees in the random forest model. We see that the quality of the model is greatly enhanced with odd values of the number of trees."
   ]
  },
  {
   "cell_type": "markdown",
   "metadata": {},
   "source": [
    "**Adjust the max_depth hyperparameter**"
   ]
  },
  {
   "cell_type": "code",
   "execution_count": null,
   "metadata": {},
   "outputs": [],
   "source": [
    "best_model = None\n",
    "best_result = 0\n",
    "train_acc, test_acc = [], []\n",
    "for depth in range(1, 11):\n",
    "    model = RandomForestClassifier(random_state=12345, max_depth=depth) \n",
    "    model.fit(features_train, target_train) \n",
    "    model.predict(features_valid)\n",
    "    result = model.score(features_valid, target_valid) \n",
    "    if result > best_result:\n",
    "        best_model = model\n",
    "        best_result = result\n",
    "        \n",
    "    train_acc.append(accuracy_score(target_valid, model.predict(features_valid)))\n",
    "    test_acc.append(accuracy_score(target_test, model.predict(features_test)))\n",
    "    \n",
    "predictions_test = model.predict(features_test)\n",
    "accuracy_test = accuracy_score(target_test, predictions_test)"
   ]
  },
  {
   "cell_type": "code",
   "execution_count": null,
   "metadata": {},
   "outputs": [],
   "source": [
    "df_forest2 = pd.DataFrame(list(zip(train_acc, test_acc)), columns =['train', 'test'])\n",
    "df_forest2.plot(grid=True)\n",
    "plt.show()"
   ]
  },
  {
   "cell_type": "markdown",
   "metadata": {},
   "source": [
    "**Conclusion:**\n",
    "\n",
    "    1. увеличение значения параметра max_depth приводит к увеличению точности классификации на обучающей выборке\n",
    "    2. с некоторого момента увеличение значения max_depth приводит к ухудшению точности на тестовой выборке, так как начинается стадия переобучения."
   ]
  },
  {
   "cell_type": "markdown",
   "metadata": {},
   "source": [
    "**Adjust the min_samples_leaf hyperparameter**"
   ]
  },
  {
   "cell_type": "code",
   "execution_count": null,
   "metadata": {},
   "outputs": [],
   "source": [
    "best_model = None\n",
    "best_result = 0\n",
    "train_acc, test_acc = [], []\n",
    "for min_samples_leaf in range(1, 11):\n",
    "    model = RandomForestClassifier(random_state=12345, min_samples_leaf=min_samples_leaf) \n",
    "    model.fit(features_train, target_train) \n",
    "    model.predict(features_valid)\n",
    "    result = model.score(features_valid, target_valid) \n",
    "    if result > best_result:\n",
    "        best_model = model\n",
    "        best_result = result\n",
    "\n",
    "    train_acc.append(accuracy_score(target_valid, model.predict(features_valid)))\n",
    "    test_acc.append(accuracy_score(target_test, model.predict(features_test)))\n",
    "    \n",
    "predictions_test = model.predict(features_test)\n",
    "accuracy_test = accuracy_score(target_test, predictions_test)"
   ]
  },
  {
   "cell_type": "code",
   "execution_count": null,
   "metadata": {},
   "outputs": [],
   "source": [
    "df_forest3 = pd.DataFrame(list(zip(train_acc, test_acc)), columns =['train', 'test'])\n",
    "df_forest3.plot(grid=True)\n",
    "plt.show()"
   ]
  },
  {
   "cell_type": "markdown",
   "metadata": {},
   "source": [
    "**Conclusion:**\n",
    "As the value of min_samples_leaf increases, the quality on the training sample increases, then decreases and then increases again. It turns out that increasing the value of min_samples_split is one of the ways to increase the accuracy of the model, as well as to combat overtraining when using solver trees."
   ]
  },
  {
   "cell_type": "markdown",
   "metadata": {},
   "source": [
    "### Logistic regression"
   ]
  },
  {
   "cell_type": "markdown",
   "metadata": {},
   "source": [
    "**Let's study the influence of different algorithms on the accuracy of the model**"
   ]
  },
  {
   "cell_type": "code",
   "execution_count": null,
   "metadata": {},
   "outputs": [],
   "source": [
    "model = LogisticRegression(random_state=12345, solver='lbfgs', max_iter=1000)\n",
    "model.fit(features_train, target_train)\n",
    "model.predict(features_train)\n",
    "result = model.score(features_train, target_train)\n",
    "print(\"Train sample:\", result)\n",
    "\n",
    "\n",
    "predictions_test = model.predict(features_test)\n",
    "accuracy_test = accuracy_score(target_test, predictions_test)\n",
    "print(\"Test sample:\", accuracy_test) # < допишите код здесь >"
   ]
  },
  {
   "cell_type": "code",
   "execution_count": null,
   "metadata": {},
   "outputs": [],
   "source": [
    "model = LogisticRegression(random_state=12345, solver='liblinear', max_iter=1000)\n",
    "model.fit(features_train, target_train)\n",
    "model.predict(features_train)\n",
    "result = model.score(features_train, target_train)\n",
    "print(\"Train sample:\", result)\n",
    "\n",
    "predictions_test = model.predict(features_test)\n",
    "accuracy_test = accuracy_score(target_test, predictions_test)\n",
    "print(\"Test sample:\", accuracy_test) # < допишите код здесь >"
   ]
  },
  {
   "cell_type": "code",
   "execution_count": null,
   "metadata": {},
   "outputs": [],
   "source": [
    "model = LogisticRegression(random_state=12345, solver='newton-cg', max_iter=1000)\n",
    "model.fit(features_train, target_train)\n",
    "model.predict(features_train)\n",
    "result = model.score(features_train, target_train)\n",
    "print(\"Train sample:\", result)\n",
    "\n",
    "predictions_test = model.predict(features_test)\n",
    "accuracy_test = accuracy_score(target_test, predictions_test)\n",
    "print(\"Test sample:\", accuracy_test) # < допишите код здесь >"
   ]
  },
  {
   "cell_type": "markdown",
   "metadata": {},
   "source": [
    "**Conclusion:**\n",
    "\n",
    "- Depending on the chosen algorithm, the accuracy of the model may vary, as well as its learning curve.\n",
    "- The best accuracy value is shown by the random forest model.\n",
    "- With different values of the hyperparameters, you can influence the accuracy of the model and fight its overfitting."
   ]
  },
  {
   "cell_type": "markdown",
   "metadata": {},
   "source": [
    "**Check the model for adequacy**"
   ]
  },
  {
   "cell_type": "code",
   "execution_count": null,
   "metadata": {},
   "outputs": [],
   "source": [
    "df_train['is_ultra'].count()"
   ]
  },
  {
   "cell_type": "code",
   "execution_count": null,
   "metadata": {},
   "outputs": [],
   "source": [
    "df_train[df_train['is_ultra'] == 0]['is_ultra'].count()"
   ]
  },
  {
   "cell_type": "code",
   "execution_count": null,
   "metadata": {},
   "outputs": [],
   "source": [
    "df_train[df_train['is_ultra'] == 1]['is_ultra'].count()"
   ]
  },
  {
   "cell_type": "code",
   "execution_count": null,
   "metadata": {},
   "outputs": [],
   "source": [
    "(0.5*593 + 0.5*1335)/1928"
   ]
  },
  {
   "cell_type": "markdown",
   "metadata": {},
   "source": [
    "**Conclusion:**\n",
    "- The prediction of the random model is 0.5\n",
    "- the constructed models are adequate"
   ]
  },
  {
   "cell_type": "markdown",
   "metadata": {},
   "source": [
    "## Final conclusion:\n",
    "The random forest model shows the most accurate result"
   ]
  }
 ],
 "metadata": {
  "ExecuteTimeLog": [
   {
    "duration": 1060,
    "start_time": "2023-04-04T07:52:48.730Z"
   },
   {
    "duration": 109,
    "start_time": "2023-04-04T07:52:50.563Z"
   },
   {
    "duration": 14,
    "start_time": "2023-04-04T07:52:53.186Z"
   },
   {
    "duration": 37,
    "start_time": "2023-04-04T09:28:18.815Z"
   },
   {
    "duration": 11,
    "start_time": "2023-04-04T09:29:56.912Z"
   },
   {
    "duration": 15,
    "start_time": "2023-04-04T09:30:13.845Z"
   },
   {
    "duration": 4,
    "start_time": "2023-04-04T09:30:27.007Z"
   },
   {
    "duration": 10,
    "start_time": "2023-04-04T09:30:34.300Z"
   },
   {
    "duration": 12,
    "start_time": "2023-04-04T09:30:39.038Z"
   },
   {
    "duration": 165,
    "start_time": "2023-04-04T09:39:57.748Z"
   },
   {
    "duration": 3,
    "start_time": "2023-04-04T09:40:01.052Z"
   },
   {
    "duration": 41,
    "start_time": "2023-04-04T09:40:01.867Z"
   },
   {
    "duration": 6,
    "start_time": "2023-04-04T09:40:04.968Z"
   },
   {
    "duration": 43,
    "start_time": "2023-04-04T09:40:05.783Z"
   },
   {
    "duration": 41,
    "start_time": "2023-04-04T09:40:17.497Z"
   },
   {
    "duration": 52,
    "start_time": "2023-04-04T09:40:20.980Z"
   },
   {
    "duration": 74,
    "start_time": "2023-04-04T09:40:33.178Z"
   },
   {
    "duration": 13,
    "start_time": "2023-04-04T09:40:37.948Z"
   },
   {
    "duration": 9,
    "start_time": "2023-04-04T09:40:40.140Z"
   },
   {
    "duration": 1291,
    "start_time": "2023-04-04T16:40:59.144Z"
   },
   {
    "duration": 144,
    "start_time": "2023-04-04T16:41:00.438Z"
   },
   {
    "duration": 12,
    "start_time": "2023-04-04T16:41:00.834Z"
   },
   {
    "duration": 108,
    "start_time": "2023-04-04T16:41:09.437Z"
   },
   {
    "duration": 9,
    "start_time": "2023-04-04T16:41:18.759Z"
   },
   {
    "duration": 7,
    "start_time": "2023-04-04T16:41:20.727Z"
   },
   {
    "duration": 10,
    "start_time": "2023-04-04T16:41:22.100Z"
   },
   {
    "duration": 6,
    "start_time": "2023-04-04T16:43:35.605Z"
   },
   {
    "duration": 10,
    "start_time": "2023-04-04T16:43:38.683Z"
   },
   {
    "duration": 3,
    "start_time": "2023-04-04T16:44:47.806Z"
   },
   {
    "duration": 37,
    "start_time": "2023-04-04T16:44:48.292Z"
   },
   {
    "duration": 12,
    "start_time": "2023-04-04T16:44:48.729Z"
   },
   {
    "duration": 15,
    "start_time": "2023-04-04T16:44:50.087Z"
   },
   {
    "duration": 6,
    "start_time": "2023-04-04T16:44:50.930Z"
   },
   {
    "duration": 24,
    "start_time": "2023-04-04T16:44:52.209Z"
   },
   {
    "duration": 3,
    "start_time": "2023-04-04T16:45:47.707Z"
   },
   {
    "duration": 38,
    "start_time": "2023-04-04T16:45:48.573Z"
   },
   {
    "duration": 12,
    "start_time": "2023-04-04T16:45:49.045Z"
   },
   {
    "duration": 10,
    "start_time": "2023-04-04T16:45:50.612Z"
   },
   {
    "duration": 6,
    "start_time": "2023-04-04T16:45:51.820Z"
   },
   {
    "duration": 35,
    "start_time": "2023-04-04T16:45:53.727Z"
   },
   {
    "duration": 25,
    "start_time": "2023-04-04T16:46:38.758Z"
   },
   {
    "duration": 38,
    "start_time": "2023-04-04T16:51:53.715Z"
   },
   {
    "duration": 84,
    "start_time": "2023-04-04T16:52:20.251Z"
   },
   {
    "duration": 205,
    "start_time": "2023-04-04T16:52:35.586Z"
   },
   {
    "duration": 22,
    "start_time": "2023-04-04T16:55:40.126Z"
   },
   {
    "duration": 33,
    "start_time": "2023-04-04T17:01:08.839Z"
   },
   {
    "duration": 32,
    "start_time": "2023-04-04T17:01:43.772Z"
   },
   {
    "duration": 112,
    "start_time": "2023-04-04T17:01:50.101Z"
   },
   {
    "duration": 4,
    "start_time": "2023-04-04T17:02:53.941Z"
   },
   {
    "duration": 8,
    "start_time": "2023-04-04T17:03:08.346Z"
   },
   {
    "duration": 1240,
    "start_time": "2023-04-06T17:12:47.569Z"
   },
   {
    "duration": 81,
    "start_time": "2023-04-06T17:12:50.803Z"
   },
   {
    "duration": 11,
    "start_time": "2023-04-06T17:12:53.710Z"
   },
   {
    "duration": 8,
    "start_time": "2023-04-06T17:12:56.883Z"
   },
   {
    "duration": 6,
    "start_time": "2023-04-06T17:12:59.923Z"
   },
   {
    "duration": 19,
    "start_time": "2023-04-06T17:13:03.229Z"
   },
   {
    "duration": 259,
    "start_time": "2023-04-06T17:16:18.130Z"
   },
   {
    "duration": 277,
    "start_time": "2023-04-06T17:16:38.610Z"
   },
   {
    "duration": 77,
    "start_time": "2023-04-06T17:16:59.404Z"
   },
   {
    "duration": 65,
    "start_time": "2023-04-06T17:17:13.605Z"
   },
   {
    "duration": 5,
    "start_time": "2023-04-06T17:17:14.463Z"
   },
   {
    "duration": 5,
    "start_time": "2023-04-06T17:17:24.217Z"
   },
   {
    "duration": 245,
    "start_time": "2023-04-06T17:17:26.267Z"
   },
   {
    "duration": 250,
    "start_time": "2023-04-06T17:17:32.119Z"
   },
   {
    "duration": 8,
    "start_time": "2023-04-06T17:17:33.008Z"
   },
   {
    "duration": 118,
    "start_time": "2023-04-06T17:17:56.294Z"
   },
   {
    "duration": 4,
    "start_time": "2023-04-06T17:30:31.895Z"
   },
   {
    "duration": 14,
    "start_time": "2023-04-06T17:30:46.015Z"
   },
   {
    "duration": 342,
    "start_time": "2023-04-06T17:31:31.194Z"
   },
   {
    "duration": 25,
    "start_time": "2023-04-06T17:31:48.394Z"
   },
   {
    "duration": 22,
    "start_time": "2023-04-06T17:32:40.943Z"
   },
   {
    "duration": 6,
    "start_time": "2023-04-06T17:32:57.059Z"
   },
   {
    "duration": 25,
    "start_time": "2023-04-06T17:33:23.326Z"
   },
   {
    "duration": 238,
    "start_time": "2023-04-06T17:33:34.399Z"
   },
   {
    "duration": 71,
    "start_time": "2023-04-06T17:34:07.427Z"
   },
   {
    "duration": 90,
    "start_time": "2023-04-06T17:44:17.284Z"
   },
   {
    "duration": 250,
    "start_time": "2023-04-06T17:44:36.769Z"
   },
   {
    "duration": 28,
    "start_time": "2023-04-06T17:44:41.180Z"
   },
   {
    "duration": 11,
    "start_time": "2023-04-06T17:57:40.968Z"
   },
   {
    "duration": 5,
    "start_time": "2023-04-06T17:58:01.685Z"
   },
   {
    "duration": 6,
    "start_time": "2023-04-06T17:58:24.644Z"
   },
   {
    "duration": 6,
    "start_time": "2023-04-06T17:58:37.707Z"
   },
   {
    "duration": 5,
    "start_time": "2023-04-06T17:58:39.841Z"
   },
   {
    "duration": 10,
    "start_time": "2023-04-06T17:59:04.455Z"
   },
   {
    "duration": 4,
    "start_time": "2023-04-06T18:00:19.712Z"
   },
   {
    "duration": 6,
    "start_time": "2023-04-06T18:05:12.483Z"
   },
   {
    "duration": 3,
    "start_time": "2023-04-06T18:07:32.011Z"
   },
   {
    "duration": 4,
    "start_time": "2023-04-06T18:07:42.800Z"
   },
   {
    "duration": 9,
    "start_time": "2023-04-07T12:06:40.436Z"
   },
   {
    "duration": 46,
    "start_time": "2023-04-07T12:06:57.112Z"
   },
   {
    "duration": 1075,
    "start_time": "2023-04-07T12:09:51.633Z"
   },
   {
    "duration": 79,
    "start_time": "2023-04-07T12:09:52.710Z"
   },
   {
    "duration": 11,
    "start_time": "2023-04-07T12:09:52.791Z"
   },
   {
    "duration": 7,
    "start_time": "2023-04-07T12:09:53.914Z"
   },
   {
    "duration": 4,
    "start_time": "2023-04-07T12:09:54.929Z"
   },
   {
    "duration": 70,
    "start_time": "2023-04-07T12:09:55.682Z"
   },
   {
    "duration": 6,
    "start_time": "2023-04-07T12:09:57.666Z"
   },
   {
    "duration": 13,
    "start_time": "2023-04-07T12:10:34.012Z"
   },
   {
    "duration": 855,
    "start_time": "2023-04-07T12:14:30.121Z"
   },
   {
    "duration": 34,
    "start_time": "2023-04-07T12:14:30.979Z"
   },
   {
    "duration": 15,
    "start_time": "2023-04-07T12:14:31.015Z"
   },
   {
    "duration": 8,
    "start_time": "2023-04-07T12:14:31.261Z"
   },
   {
    "duration": 4,
    "start_time": "2023-04-07T12:14:32.051Z"
   },
   {
    "duration": 30,
    "start_time": "2023-04-07T12:14:32.616Z"
   },
   {
    "duration": 14,
    "start_time": "2023-04-07T12:14:35.249Z"
   },
   {
    "duration": 4,
    "start_time": "2023-04-07T12:14:38.019Z"
   },
   {
    "duration": 14,
    "start_time": "2023-04-07T12:14:38.651Z"
   },
   {
    "duration": 3,
    "start_time": "2023-04-07T12:14:59.160Z"
   },
   {
    "duration": 4,
    "start_time": "2023-04-07T12:14:59.872Z"
   },
   {
    "duration": 17,
    "start_time": "2023-04-07T12:15:00.410Z"
   },
   {
    "duration": 3,
    "start_time": "2023-04-07T12:16:57.807Z"
   },
   {
    "duration": 14,
    "start_time": "2023-04-07T12:17:09.314Z"
   },
   {
    "duration": 2,
    "start_time": "2023-04-07T12:17:24.407Z"
   },
   {
    "duration": 4,
    "start_time": "2023-04-07T12:17:25.311Z"
   },
   {
    "duration": 7,
    "start_time": "2023-04-07T12:17:26.054Z"
   },
   {
    "duration": 1674,
    "start_time": "2023-04-08T11:30:22.894Z"
   },
   {
    "duration": 135,
    "start_time": "2023-04-08T11:30:24.571Z"
   },
   {
    "duration": 12,
    "start_time": "2023-04-08T11:30:24.708Z"
   },
   {
    "duration": 8,
    "start_time": "2023-04-08T11:30:26.143Z"
   },
   {
    "duration": 3,
    "start_time": "2023-04-08T11:30:27.331Z"
   },
   {
    "duration": 3,
    "start_time": "2023-04-08T11:30:27.738Z"
   },
   {
    "duration": 4,
    "start_time": "2023-04-08T11:30:28.203Z"
   },
   {
    "duration": 9,
    "start_time": "2023-04-08T11:30:28.765Z"
   },
   {
    "duration": 7,
    "start_time": "2023-04-08T11:30:30.956Z"
   },
   {
    "duration": 86,
    "start_time": "2023-04-08T11:30:31.964Z"
   },
   {
    "duration": 79,
    "start_time": "2023-04-08T11:30:32.895Z"
   },
   {
    "duration": 118,
    "start_time": "2023-04-08T11:30:44.944Z"
   },
   {
    "duration": 8,
    "start_time": "2023-04-08T11:31:58.271Z"
   },
   {
    "duration": 6,
    "start_time": "2023-04-08T11:32:02.986Z"
   },
   {
    "duration": 80,
    "start_time": "2023-04-08T11:32:07.083Z"
   },
   {
    "duration": 13,
    "start_time": "2023-04-08T11:32:10.011Z"
   },
   {
    "duration": 12,
    "start_time": "2023-04-08T11:32:15.614Z"
   },
   {
    "duration": 5,
    "start_time": "2023-04-08T11:32:50.770Z"
   },
   {
    "duration": 8,
    "start_time": "2023-04-08T11:32:51.383Z"
   },
   {
    "duration": 6,
    "start_time": "2023-04-08T11:32:52.737Z"
   },
   {
    "duration": 82,
    "start_time": "2023-04-08T11:32:53.616Z"
   },
   {
    "duration": 12,
    "start_time": "2023-04-08T11:32:54.135Z"
   },
   {
    "duration": 7,
    "start_time": "2023-04-08T11:33:11.637Z"
   },
   {
    "duration": 6,
    "start_time": "2023-04-08T11:33:12.796Z"
   },
   {
    "duration": 84,
    "start_time": "2023-04-08T11:33:13.941Z"
   },
   {
    "duration": 898,
    "start_time": "2023-04-08T11:33:14.868Z"
   },
   {
    "duration": 5,
    "start_time": "2023-04-08T11:34:51.563Z"
   },
   {
    "duration": 37,
    "start_time": "2023-04-08T11:34:53.878Z"
   },
   {
    "duration": 10,
    "start_time": "2023-04-08T11:34:54.161Z"
   },
   {
    "duration": 7,
    "start_time": "2023-04-08T11:34:54.913Z"
   },
   {
    "duration": 3,
    "start_time": "2023-04-08T11:34:55.629Z"
   },
   {
    "duration": 3,
    "start_time": "2023-04-08T11:34:56.065Z"
   },
   {
    "duration": 4,
    "start_time": "2023-04-08T11:34:56.334Z"
   },
   {
    "duration": 8,
    "start_time": "2023-04-08T11:34:56.565Z"
   },
   {
    "duration": 6,
    "start_time": "2023-04-08T11:34:57.344Z"
   },
   {
    "duration": 79,
    "start_time": "2023-04-08T11:34:58.013Z"
   },
   {
    "duration": 785,
    "start_time": "2023-04-08T11:34:58.896Z"
   },
   {
    "duration": 924,
    "start_time": "2023-04-08T11:36:22.386Z"
   },
   {
    "duration": 1023,
    "start_time": "2023-04-08T11:36:41.789Z"
   },
   {
    "duration": 851,
    "start_time": "2023-04-08T11:36:57.033Z"
   },
   {
    "duration": 4,
    "start_time": "2023-04-08T11:39:26.852Z"
   },
   {
    "duration": 7,
    "start_time": "2023-04-08T11:39:27.366Z"
   },
   {
    "duration": 5,
    "start_time": "2023-04-08T11:39:28.144Z"
   },
   {
    "duration": 783,
    "start_time": "2023-04-08T11:39:28.976Z"
   },
   {
    "duration": 7,
    "start_time": "2023-04-08T11:41:43.080Z"
   },
   {
    "duration": 6,
    "start_time": "2023-04-08T11:41:43.941Z"
   },
   {
    "duration": 1498,
    "start_time": "2023-04-08T11:41:44.919Z"
   },
   {
    "duration": 5,
    "start_time": "2023-04-08T11:41:55.547Z"
   },
   {
    "duration": 35,
    "start_time": "2023-04-08T11:41:55.798Z"
   },
   {
    "duration": 11,
    "start_time": "2023-04-08T11:41:56.052Z"
   },
   {
    "duration": 7,
    "start_time": "2023-04-08T11:41:56.720Z"
   },
   {
    "duration": 3,
    "start_time": "2023-04-08T11:41:57.162Z"
   },
   {
    "duration": 3,
    "start_time": "2023-04-08T11:41:57.380Z"
   },
   {
    "duration": 4,
    "start_time": "2023-04-08T11:41:57.598Z"
   },
   {
    "duration": 8,
    "start_time": "2023-04-08T11:41:57.819Z"
   },
   {
    "duration": 6,
    "start_time": "2023-04-08T11:41:58.468Z"
   },
   {
    "duration": 908,
    "start_time": "2023-04-08T11:41:58.962Z"
   },
   {
    "duration": 8,
    "start_time": "2023-04-08T12:22:58.737Z"
   },
   {
    "duration": 2167,
    "start_time": "2023-04-08T12:23:04.461Z"
   },
   {
    "duration": 958,
    "start_time": "2023-04-08T12:23:38.749Z"
   },
   {
    "duration": 82,
    "start_time": "2023-04-08T12:24:16.458Z"
   },
   {
    "duration": 4,
    "start_time": "2023-04-08T12:26:36.667Z"
   },
   {
    "duration": 8,
    "start_time": "2023-04-08T12:27:56.407Z"
   },
   {
    "duration": 5,
    "start_time": "2023-04-08T12:28:03.548Z"
   },
   {
    "duration": 84,
    "start_time": "2023-04-08T12:28:04.906Z"
   },
   {
    "duration": 1615,
    "start_time": "2023-04-08T12:28:09.899Z"
   },
   {
    "duration": 4,
    "start_time": "2023-04-08T12:28:48.439Z"
   },
   {
    "duration": 34,
    "start_time": "2023-04-08T12:28:50.731Z"
   },
   {
    "duration": 11,
    "start_time": "2023-04-08T12:28:51.014Z"
   },
   {
    "duration": 8,
    "start_time": "2023-04-08T12:28:51.847Z"
   },
   {
    "duration": 8,
    "start_time": "2023-04-08T12:28:52.433Z"
   },
   {
    "duration": 83,
    "start_time": "2023-04-08T12:28:52.813Z"
   },
   {
    "duration": 10,
    "start_time": "2023-04-08T12:30:10.608Z"
   },
   {
    "duration": 145,
    "start_time": "2023-04-08T12:32:09.114Z"
   },
   {
    "duration": 131,
    "start_time": "2023-04-08T12:33:18.688Z"
   },
   {
    "duration": 57,
    "start_time": "2023-04-08T12:33:43.266Z"
   },
   {
    "duration": 6,
    "start_time": "2023-04-08T12:34:47.069Z"
   },
   {
    "duration": 83,
    "start_time": "2023-04-08T12:34:48.671Z"
   },
   {
    "duration": 65,
    "start_time": "2023-04-08T12:54:10.727Z"
   },
   {
    "duration": 60,
    "start_time": "2023-04-08T12:54:37.644Z"
   },
   {
    "duration": 5,
    "start_time": "2023-04-08T12:56:33.876Z"
   },
   {
    "duration": 5,
    "start_time": "2023-04-08T12:56:55.938Z"
   },
   {
    "duration": 764,
    "start_time": "2023-04-08T12:57:07.108Z"
   },
   {
    "duration": 3860,
    "start_time": "2023-04-08T12:58:06.389Z"
   },
   {
    "duration": 1470,
    "start_time": "2023-04-08T12:58:42.013Z"
   },
   {
    "duration": 780,
    "start_time": "2023-04-08T12:59:00.268Z"
   },
   {
    "duration": 788,
    "start_time": "2023-04-08T12:59:15.133Z"
   },
   {
    "duration": 82,
    "start_time": "2023-04-08T13:00:18.591Z"
   },
   {
    "duration": 672,
    "start_time": "2023-04-08T13:01:02.005Z"
   },
   {
    "duration": 6,
    "start_time": "2023-04-08T13:03:21.874Z"
   },
   {
    "duration": 699,
    "start_time": "2023-04-08T13:03:25.466Z"
   },
   {
    "duration": 4,
    "start_time": "2023-04-08T13:04:43.997Z"
   },
   {
    "duration": 714,
    "start_time": "2023-04-08T13:04:46.188Z"
   },
   {
    "duration": 5,
    "start_time": "2023-04-08T13:05:43.206Z"
   },
   {
    "duration": 715,
    "start_time": "2023-04-08T13:05:44.271Z"
   },
   {
    "duration": 5,
    "start_time": "2023-04-08T13:05:47.992Z"
   },
   {
    "duration": 790,
    "start_time": "2023-04-08T13:05:48.683Z"
   },
   {
    "duration": 4,
    "start_time": "2023-04-08T13:09:34.370Z"
   },
   {
    "duration": 727,
    "start_time": "2023-04-08T13:09:34.882Z"
   },
   {
    "duration": 85,
    "start_time": "2023-04-08T13:13:05.211Z"
   },
   {
    "duration": 5,
    "start_time": "2023-04-08T13:13:19.517Z"
   },
   {
    "duration": 37,
    "start_time": "2023-04-08T13:13:19.967Z"
   },
   {
    "duration": 11,
    "start_time": "2023-04-08T13:13:20.553Z"
   },
   {
    "duration": 10,
    "start_time": "2023-04-08T13:13:24.318Z"
   },
   {
    "duration": 6,
    "start_time": "2023-04-08T13:13:26.457Z"
   },
   {
    "duration": 90,
    "start_time": "2023-04-08T13:13:30.019Z"
   },
   {
    "duration": 25,
    "start_time": "2023-04-08T13:14:30.072Z"
   },
   {
    "duration": 87,
    "start_time": "2023-04-08T13:14:40.609Z"
   },
   {
    "duration": 313,
    "start_time": "2023-04-08T13:16:15.182Z"
   },
   {
    "duration": 3727,
    "start_time": "2023-04-08T13:16:28.642Z"
   },
   {
    "duration": 961,
    "start_time": "2023-04-08T13:16:47.827Z"
   },
   {
    "duration": 398,
    "start_time": "2023-04-08T13:17:02.245Z"
   },
   {
    "duration": 216,
    "start_time": "2023-04-08T13:17:15.203Z"
   },
   {
    "duration": 257,
    "start_time": "2023-04-08T13:17:22.671Z"
   },
   {
    "duration": 65,
    "start_time": "2023-04-08T13:19:52.503Z"
   },
   {
    "duration": 54,
    "start_time": "2023-04-08T13:20:35.483Z"
   },
   {
    "duration": 4,
    "start_time": "2023-04-08T13:21:29.035Z"
   },
   {
    "duration": 5,
    "start_time": "2023-04-08T13:21:31.299Z"
   },
   {
    "duration": 295,
    "start_time": "2023-04-08T13:21:31.810Z"
   },
   {
    "duration": 5,
    "start_time": "2023-04-08T13:22:05.405Z"
   },
   {
    "duration": 179,
    "start_time": "2023-04-08T13:22:06.714Z"
   },
   {
    "duration": 164,
    "start_time": "2023-04-08T13:22:11.536Z"
   },
   {
    "duration": 5,
    "start_time": "2023-04-08T13:22:13.004Z"
   },
   {
    "duration": 159,
    "start_time": "2023-04-08T13:22:14.765Z"
   },
   {
    "duration": 4,
    "start_time": "2023-04-08T13:25:29.373Z"
   },
   {
    "duration": 5,
    "start_time": "2023-04-08T13:25:30.164Z"
   },
   {
    "duration": 26,
    "start_time": "2023-04-08T13:25:30.902Z"
   },
   {
    "duration": 25,
    "start_time": "2023-04-08T13:25:33.127Z"
   },
   {
    "duration": 5,
    "start_time": "2023-04-08T13:25:34.758Z"
   },
   {
    "duration": 25,
    "start_time": "2023-04-08T13:25:35.339Z"
   },
   {
    "duration": 4,
    "start_time": "2023-04-08T13:25:40.833Z"
   },
   {
    "duration": 24,
    "start_time": "2023-04-08T13:25:41.577Z"
   },
   {
    "duration": 23,
    "start_time": "2023-04-08T13:25:43.716Z"
   },
   {
    "duration": 5,
    "start_time": "2023-04-08T13:25:52.715Z"
   },
   {
    "duration": 23,
    "start_time": "2023-04-08T13:25:55.129Z"
   },
   {
    "duration": 55,
    "start_time": "2023-04-08T13:26:13.625Z"
   },
   {
    "duration": 4,
    "start_time": "2023-04-08T13:26:14.270Z"
   },
   {
    "duration": 5,
    "start_time": "2023-04-08T13:26:14.910Z"
   },
   {
    "duration": 25,
    "start_time": "2023-04-08T13:26:15.758Z"
   },
   {
    "duration": 51,
    "start_time": "2023-04-08T13:27:16.946Z"
   },
   {
    "duration": 59,
    "start_time": "2023-04-08T13:27:28.440Z"
   },
   {
    "duration": 81,
    "start_time": "2023-04-08T13:29:38.895Z"
   },
   {
    "duration": 13,
    "start_time": "2023-04-08T13:29:39.860Z"
   },
   {
    "duration": 4,
    "start_time": "2023-04-08T13:29:58.270Z"
   },
   {
    "duration": 37,
    "start_time": "2023-04-08T13:29:58.722Z"
   },
   {
    "duration": 11,
    "start_time": "2023-04-08T13:29:59.238Z"
   },
   {
    "duration": 7,
    "start_time": "2023-04-08T13:30:00.248Z"
   },
   {
    "duration": 7,
    "start_time": "2023-04-08T13:30:00.854Z"
   },
   {
    "duration": 84,
    "start_time": "2023-04-08T13:30:01.462Z"
   },
   {
    "duration": 18,
    "start_time": "2023-04-08T13:30:02.480Z"
   },
   {
    "duration": 15,
    "start_time": "2023-04-08T13:30:05.159Z"
   },
   {
    "duration": 14,
    "start_time": "2023-04-08T13:30:18.203Z"
   },
   {
    "duration": 18,
    "start_time": "2023-04-08T13:31:06.523Z"
   },
   {
    "duration": 25,
    "start_time": "2023-04-08T13:31:11.211Z"
   },
   {
    "duration": 76,
    "start_time": "2023-04-08T13:31:16.009Z"
   },
   {
    "duration": 104,
    "start_time": "2023-04-08T13:34:22.618Z"
   },
   {
    "duration": 87,
    "start_time": "2023-04-08T13:34:40.089Z"
   },
   {
    "duration": 65,
    "start_time": "2023-04-08T13:34:57.869Z"
   },
   {
    "duration": 101,
    "start_time": "2023-04-08T13:35:31.650Z"
   },
   {
    "duration": 73,
    "start_time": "2023-04-08T13:35:38.083Z"
   },
   {
    "duration": 106,
    "start_time": "2023-04-08T13:35:50.526Z"
   },
   {
    "duration": 13,
    "start_time": "2023-04-08T13:37:35.238Z"
   },
   {
    "duration": 12,
    "start_time": "2023-04-08T13:38:04.622Z"
   },
   {
    "duration": 11,
    "start_time": "2023-04-08T13:38:31.033Z"
   },
   {
    "duration": 13,
    "start_time": "2023-04-08T13:38:51.099Z"
   },
   {
    "duration": 4,
    "start_time": "2023-04-08T13:39:19.071Z"
   },
   {
    "duration": 35,
    "start_time": "2023-04-08T13:39:19.330Z"
   },
   {
    "duration": 12,
    "start_time": "2023-04-08T13:39:19.531Z"
   },
   {
    "duration": 9,
    "start_time": "2023-04-08T13:39:20.101Z"
   },
   {
    "duration": 6,
    "start_time": "2023-04-08T13:39:20.656Z"
   },
   {
    "duration": 85,
    "start_time": "2023-04-08T13:39:21.043Z"
   },
   {
    "duration": 121,
    "start_time": "2023-04-08T13:39:21.414Z"
   },
   {
    "duration": 12,
    "start_time": "2023-04-08T13:39:21.601Z"
   },
   {
    "duration": 290,
    "start_time": "2023-04-08T13:39:22.954Z"
   },
   {
    "duration": 12,
    "start_time": "2023-04-08T13:39:56.468Z"
   },
   {
    "duration": 16,
    "start_time": "2023-04-08T13:40:10.517Z"
   },
   {
    "duration": 225,
    "start_time": "2023-04-08T13:40:57.444Z"
   },
   {
    "duration": 45,
    "start_time": "2023-04-08T13:41:24.231Z"
   },
   {
    "duration": 75,
    "start_time": "2023-04-08T13:41:35.534Z"
   },
   {
    "duration": 69,
    "start_time": "2023-04-08T13:41:48.945Z"
   },
   {
    "duration": 45,
    "start_time": "2023-04-08T13:42:09.263Z"
   },
   {
    "duration": 58,
    "start_time": "2023-04-08T13:42:23.617Z"
   },
   {
    "duration": 72,
    "start_time": "2023-04-08T13:42:35.258Z"
   },
   {
    "duration": 58,
    "start_time": "2023-04-08T13:42:44.115Z"
   },
   {
    "duration": 46,
    "start_time": "2023-04-08T13:42:49.503Z"
   },
   {
    "duration": 40,
    "start_time": "2023-04-08T13:43:27.374Z"
   },
   {
    "duration": 8,
    "start_time": "2023-04-08T13:43:29.852Z"
   },
   {
    "duration": 65,
    "start_time": "2023-04-08T13:43:44.299Z"
   },
   {
    "duration": 7,
    "start_time": "2023-04-08T13:43:48.123Z"
   },
   {
    "duration": 12,
    "start_time": "2023-04-08T13:44:29.078Z"
   },
   {
    "duration": 329,
    "start_time": "2023-04-08T13:44:38.360Z"
   },
   {
    "duration": 6,
    "start_time": "2023-04-08T13:44:41.602Z"
   },
   {
    "duration": 241,
    "start_time": "2023-04-08T13:44:57.446Z"
   },
   {
    "duration": 233,
    "start_time": "2023-04-08T13:45:06.551Z"
   },
   {
    "duration": 12,
    "start_time": "2023-04-08T13:45:19.635Z"
   },
   {
    "duration": 60,
    "start_time": "2023-04-08T13:45:29.608Z"
   },
   {
    "duration": 53,
    "start_time": "2023-04-08T13:45:42.303Z"
   },
   {
    "duration": 6,
    "start_time": "2023-04-08T13:45:53.413Z"
   },
   {
    "duration": 54,
    "start_time": "2023-04-08T13:45:58.738Z"
   },
   {
    "duration": 6,
    "start_time": "2023-04-08T13:45:59.499Z"
   },
   {
    "duration": 68,
    "start_time": "2023-04-08T13:46:06.895Z"
   },
   {
    "duration": 6,
    "start_time": "2023-04-08T13:46:08.270Z"
   },
   {
    "duration": 83,
    "start_time": "2023-04-08T13:46:16.216Z"
   },
   {
    "duration": 7,
    "start_time": "2023-04-08T13:46:17.274Z"
   },
   {
    "duration": 76,
    "start_time": "2023-04-08T13:47:00.569Z"
   },
   {
    "duration": 7,
    "start_time": "2023-04-08T13:47:05.941Z"
   },
   {
    "duration": 74,
    "start_time": "2023-04-08T13:47:43.374Z"
   },
   {
    "duration": 82,
    "start_time": "2023-04-08T13:48:59.604Z"
   },
   {
    "duration": 2519,
    "start_time": "2023-04-08T13:54:57.185Z"
   },
   {
    "duration": 3873,
    "start_time": "2023-04-08T13:56:07.579Z"
   },
   {
    "duration": 2556,
    "start_time": "2023-04-08T13:58:13.508Z"
   },
   {
    "duration": 3849,
    "start_time": "2023-04-08T13:58:16.066Z"
   },
   {
    "duration": 87,
    "start_time": "2023-04-08T14:06:15.779Z"
   },
   {
    "duration": 107,
    "start_time": "2023-04-08T14:06:38.111Z"
   },
   {
    "duration": 92,
    "start_time": "2023-04-08T14:09:24.685Z"
   },
   {
    "duration": 117,
    "start_time": "2023-04-08T14:12:27.578Z"
   },
   {
    "duration": 6,
    "start_time": "2023-04-08T14:12:36.728Z"
   },
   {
    "duration": 101,
    "start_time": "2023-04-08T14:12:40.484Z"
   },
   {
    "duration": 71,
    "start_time": "2023-04-08T14:16:33.003Z"
   },
   {
    "duration": 81,
    "start_time": "2023-04-08T14:16:33.569Z"
   },
   {
    "duration": 18158,
    "start_time": "2023-04-08T14:18:49.393Z"
   },
   {
    "duration": 125,
    "start_time": "2023-04-08T14:19:12.759Z"
   },
   {
    "duration": 4,
    "start_time": "2023-04-08T14:20:17.447Z"
   },
   {
    "duration": 19236,
    "start_time": "2023-04-08T14:20:21.737Z"
   },
   {
    "duration": 18561,
    "start_time": "2023-04-08T14:21:06.716Z"
   },
   {
    "duration": 18743,
    "start_time": "2023-04-08T14:22:12.967Z"
   },
   {
    "duration": 19260,
    "start_time": "2023-04-08T14:23:26.562Z"
   },
   {
    "duration": 125,
    "start_time": "2023-04-08T14:31:28.164Z"
   },
   {
    "duration": 76,
    "start_time": "2023-04-08T14:31:43.740Z"
   },
   {
    "duration": 25,
    "start_time": "2023-04-08T14:40:41.446Z"
   },
   {
    "duration": 201,
    "start_time": "2023-04-08T14:40:42.181Z"
   },
   {
    "duration": 221,
    "start_time": "2023-04-08T14:41:07.100Z"
   },
   {
    "duration": 210,
    "start_time": "2023-04-08T14:41:21.644Z"
   },
   {
    "duration": 176,
    "start_time": "2023-04-08T14:41:38.236Z"
   },
   {
    "duration": 185,
    "start_time": "2023-04-08T14:41:46.582Z"
   },
   {
    "duration": 214,
    "start_time": "2023-04-08T14:42:25.593Z"
   },
   {
    "duration": 196,
    "start_time": "2023-04-08T14:42:59.712Z"
   },
   {
    "duration": 4,
    "start_time": "2023-04-08T14:43:40.172Z"
   },
   {
    "duration": 31,
    "start_time": "2023-04-08T14:43:42.500Z"
   },
   {
    "duration": 34,
    "start_time": "2023-04-08T14:43:56.892Z"
   },
   {
    "duration": 104,
    "start_time": "2023-04-08T14:44:05.789Z"
   },
   {
    "duration": 25,
    "start_time": "2023-04-08T14:44:11.429Z"
   },
   {
    "duration": 102,
    "start_time": "2023-04-08T14:46:30.937Z"
   },
   {
    "duration": 100,
    "start_time": "2023-04-08T14:47:32.171Z"
   },
   {
    "duration": 5,
    "start_time": "2023-04-08T14:47:51.369Z"
   },
   {
    "duration": 25,
    "start_time": "2023-04-08T14:47:54.405Z"
   },
   {
    "duration": 93,
    "start_time": "2023-04-08T14:48:08.356Z"
   },
   {
    "duration": 5,
    "start_time": "2023-04-08T14:48:09.166Z"
   },
   {
    "duration": 26,
    "start_time": "2023-04-08T14:48:10.431Z"
   },
   {
    "duration": 5,
    "start_time": "2023-04-08T14:48:48.435Z"
   },
   {
    "duration": 27,
    "start_time": "2023-04-08T14:48:49.375Z"
   },
   {
    "duration": 5,
    "start_time": "2023-04-08T14:49:25.978Z"
   },
   {
    "duration": 166,
    "start_time": "2023-04-08T14:49:26.832Z"
   },
   {
    "duration": 92,
    "start_time": "2023-04-08T14:49:30.114Z"
   },
   {
    "duration": 4,
    "start_time": "2023-04-08T14:49:30.893Z"
   },
   {
    "duration": 268,
    "start_time": "2023-04-08T14:49:34.740Z"
   },
   {
    "duration": 11,
    "start_time": "2023-04-08T14:51:16.949Z"
   },
   {
    "duration": 22,
    "start_time": "2023-04-08T15:01:01.193Z"
   },
   {
    "duration": 2308,
    "start_time": "2023-04-08T15:01:14.365Z"
   },
   {
    "duration": 73,
    "start_time": "2023-04-08T15:01:26.719Z"
   },
   {
    "duration": 13,
    "start_time": "2023-04-08T15:01:40.151Z"
   },
   {
    "duration": 9,
    "start_time": "2023-04-08T15:01:57.592Z"
   },
   {
    "duration": 86,
    "start_time": "2023-04-08T15:02:01.928Z"
   },
   {
    "duration": 110,
    "start_time": "2023-04-08T15:02:06.219Z"
   },
   {
    "duration": 14,
    "start_time": "2023-04-08T15:02:07.252Z"
   },
   {
    "duration": 15,
    "start_time": "2023-04-08T15:02:12.280Z"
   },
   {
    "duration": 15,
    "start_time": "2023-04-08T15:02:28.219Z"
   },
   {
    "duration": 7,
    "start_time": "2023-04-08T15:02:29.017Z"
   },
   {
    "duration": 7,
    "start_time": "2023-04-08T15:02:29.599Z"
   },
   {
    "duration": 73,
    "start_time": "2023-04-08T15:02:29.977Z"
   },
   {
    "duration": 108,
    "start_time": "2023-04-08T15:02:30.778Z"
   },
   {
    "duration": 14,
    "start_time": "2023-04-08T15:02:31.467Z"
   },
   {
    "duration": 14,
    "start_time": "2023-04-08T15:02:33.654Z"
   },
   {
    "duration": 4,
    "start_time": "2023-04-08T15:02:34.707Z"
   },
   {
    "duration": 4,
    "start_time": "2023-04-08T15:02:35.492Z"
   },
   {
    "duration": 16,
    "start_time": "2023-04-08T15:02:42.600Z"
   },
   {
    "duration": 77,
    "start_time": "2023-04-08T15:03:34.055Z"
   },
   {
    "duration": 16,
    "start_time": "2023-04-08T15:03:34.822Z"
   },
   {
    "duration": 80,
    "start_time": "2023-04-08T15:03:45.863Z"
   },
   {
    "duration": 103,
    "start_time": "2023-04-08T15:03:49.639Z"
   },
   {
    "duration": 2853,
    "start_time": "2023-04-08T15:03:50.437Z"
   },
   {
    "duration": 1859,
    "start_time": "2023-04-08T15:04:05.746Z"
   },
   {
    "duration": 1378,
    "start_time": "2023-04-08T15:04:18.167Z"
   },
   {
    "duration": 1399,
    "start_time": "2023-04-08T15:04:24.503Z"
   },
   {
    "duration": 117,
    "start_time": "2023-04-08T15:04:31.866Z"
   },
   {
    "duration": 1991,
    "start_time": "2023-04-08T15:04:32.625Z"
   },
   {
    "duration": 79,
    "start_time": "2023-04-08T15:06:34.559Z"
   },
   {
    "duration": 12,
    "start_time": "2023-04-08T15:08:50.751Z"
   },
   {
    "duration": 18,
    "start_time": "2023-04-08T15:08:53.599Z"
   },
   {
    "duration": 372,
    "start_time": "2023-04-08T15:09:05.097Z"
   },
   {
    "duration": 95,
    "start_time": "2023-04-08T15:12:22.533Z"
   },
   {
    "duration": 213,
    "start_time": "2023-04-08T15:12:38.480Z"
   },
   {
    "duration": 112,
    "start_time": "2023-04-08T15:15:53.988Z"
   },
   {
    "duration": 2636,
    "start_time": "2023-04-08T15:17:26.784Z"
   },
   {
    "duration": 2616,
    "start_time": "2023-04-08T15:18:36.860Z"
   },
   {
    "duration": 218,
    "start_time": "2023-04-08T15:25:42.132Z"
   },
   {
    "duration": 109,
    "start_time": "2023-04-08T15:25:48.205Z"
   },
   {
    "duration": 222,
    "start_time": "2023-04-08T15:25:51.467Z"
   },
   {
    "duration": 10,
    "start_time": "2023-04-08T15:26:22.237Z"
   },
   {
    "duration": 139,
    "start_time": "2023-04-08T15:26:46.133Z"
   },
   {
    "duration": 213,
    "start_time": "2023-04-08T15:26:57.870Z"
   },
   {
    "duration": 212,
    "start_time": "2023-04-08T15:27:04.415Z"
   },
   {
    "duration": 14,
    "start_time": "2023-04-08T15:27:23.953Z"
   },
   {
    "duration": 186,
    "start_time": "2023-04-08T15:27:34.293Z"
   },
   {
    "duration": 228,
    "start_time": "2023-04-08T15:27:43.331Z"
   },
   {
    "duration": 314,
    "start_time": "2023-04-08T15:27:53.028Z"
   },
   {
    "duration": 130,
    "start_time": "2023-04-08T15:28:08.235Z"
   },
   {
    "duration": 15,
    "start_time": "2023-04-08T15:29:08.595Z"
   },
   {
    "duration": 17,
    "start_time": "2023-04-08T15:29:20.115Z"
   },
   {
    "duration": 142,
    "start_time": "2023-04-08T15:29:32.219Z"
   },
   {
    "duration": 170,
    "start_time": "2023-04-08T15:32:24.495Z"
   },
   {
    "duration": 166,
    "start_time": "2023-04-08T15:32:50.057Z"
   },
   {
    "duration": 100,
    "start_time": "2023-04-08T15:34:29.453Z"
   },
   {
    "duration": 93,
    "start_time": "2023-04-08T15:34:33.448Z"
   },
   {
    "duration": 88,
    "start_time": "2023-04-08T15:34:45.735Z"
   },
   {
    "duration": 102,
    "start_time": "2023-04-08T15:34:51.595Z"
   },
   {
    "duration": 96,
    "start_time": "2023-04-08T15:35:50.901Z"
   },
   {
    "duration": 164,
    "start_time": "2023-04-08T15:35:52.076Z"
   },
   {
    "duration": 99,
    "start_time": "2023-04-08T15:37:00.218Z"
   },
   {
    "duration": 162,
    "start_time": "2023-04-08T15:38:21.276Z"
   },
   {
    "duration": 125,
    "start_time": "2023-04-08T15:38:36.618Z"
   },
   {
    "duration": 162,
    "start_time": "2023-04-08T15:38:37.333Z"
   },
   {
    "duration": 5,
    "start_time": "2023-04-08T15:40:21.440Z"
   },
   {
    "duration": 37,
    "start_time": "2023-04-08T15:40:21.683Z"
   },
   {
    "duration": 14,
    "start_time": "2023-04-08T15:40:21.931Z"
   },
   {
    "duration": 10,
    "start_time": "2023-04-08T15:40:22.511Z"
   },
   {
    "duration": 6,
    "start_time": "2023-04-08T15:40:23.079Z"
   },
   {
    "duration": 108,
    "start_time": "2023-04-08T15:40:23.447Z"
   },
   {
    "duration": 165,
    "start_time": "2023-04-08T15:40:23.647Z"
   },
   {
    "duration": 97,
    "start_time": "2023-04-08T15:40:26.004Z"
   },
   {
    "duration": 159,
    "start_time": "2023-04-08T15:40:26.182Z"
   },
   {
    "duration": 98,
    "start_time": "2023-04-08T15:40:26.542Z"
   },
   {
    "duration": 164,
    "start_time": "2023-04-08T15:40:26.728Z"
   },
   {
    "duration": 281,
    "start_time": "2023-04-08T15:40:27.478Z"
   },
   {
    "duration": 2494,
    "start_time": "2023-04-08T15:40:28.053Z"
   },
   {
    "duration": 3680,
    "start_time": "2023-04-08T15:40:30.550Z"
   },
   {
    "duration": 19483,
    "start_time": "2023-04-08T15:40:34.232Z"
   },
   {
    "duration": 5,
    "start_time": "2023-04-08T15:40:53.718Z"
   },
   {
    "duration": 44,
    "start_time": "2023-04-08T15:40:53.724Z"
   },
   {
    "duration": 20,
    "start_time": "2023-04-08T15:40:53.770Z"
   },
   {
    "duration": 17,
    "start_time": "2023-04-08T15:40:53.792Z"
   },
   {
    "duration": 333,
    "start_time": "2023-04-08T15:42:02.946Z"
   },
   {
    "duration": 161,
    "start_time": "2023-04-08T15:42:05.180Z"
   },
   {
    "duration": 100,
    "start_time": "2023-04-08T15:42:49.363Z"
   },
   {
    "duration": 90,
    "start_time": "2023-04-08T15:43:08.010Z"
   },
   {
    "duration": 351,
    "start_time": "2023-04-08T15:43:32.300Z"
   },
   {
    "duration": 372,
    "start_time": "2023-04-08T15:43:46.609Z"
   },
   {
    "duration": 371,
    "start_time": "2023-04-08T15:44:17.108Z"
   },
   {
    "duration": 161,
    "start_time": "2023-04-08T15:44:18.479Z"
   },
   {
    "duration": 267,
    "start_time": "2023-04-08T15:44:23.017Z"
   },
   {
    "duration": 329,
    "start_time": "2023-04-08T15:44:33.605Z"
   },
   {
    "duration": 339,
    "start_time": "2023-04-08T15:44:43.051Z"
   },
   {
    "duration": 156,
    "start_time": "2023-04-08T15:44:43.741Z"
   },
   {
    "duration": 90,
    "start_time": "2023-04-08T15:45:03.569Z"
   },
   {
    "duration": 158,
    "start_time": "2023-04-08T15:45:04.383Z"
   },
   {
    "duration": 92,
    "start_time": "2023-04-08T15:45:21.342Z"
   },
   {
    "duration": 169,
    "start_time": "2023-04-08T15:45:22.062Z"
   },
   {
    "duration": 104,
    "start_time": "2023-04-08T15:45:30.956Z"
   },
   {
    "duration": 2813,
    "start_time": "2023-04-08T15:46:31.975Z"
   },
   {
    "duration": 172,
    "start_time": "2023-04-08T15:46:34.790Z"
   },
   {
    "duration": 4186,
    "start_time": "2023-04-08T15:47:51.919Z"
   },
   {
    "duration": 165,
    "start_time": "2023-04-08T15:47:56.107Z"
   },
   {
    "duration": 21381,
    "start_time": "2023-04-08T15:48:41.694Z"
   },
   {
    "duration": 178,
    "start_time": "2023-04-08T15:49:03.077Z"
   },
   {
    "duration": 391,
    "start_time": "2023-04-08T15:53:25.540Z"
   },
   {
    "duration": 4252,
    "start_time": "2023-04-08T15:53:38.478Z"
   },
   {
    "duration": 156,
    "start_time": "2023-04-08T15:53:44.501Z"
   },
   {
    "duration": 21495,
    "start_time": "2023-04-08T15:54:20.197Z"
   },
   {
    "duration": 177,
    "start_time": "2023-04-08T15:54:41.694Z"
   },
   {
    "duration": 26199,
    "start_time": "2023-04-08T15:55:46.014Z"
   },
   {
    "duration": 174,
    "start_time": "2023-04-08T15:56:17.161Z"
   },
   {
    "duration": 166,
    "start_time": "2023-04-08T15:57:08.039Z"
   },
   {
    "duration": 1489,
    "start_time": "2023-04-08T15:57:39.338Z"
   },
   {
    "duration": 41,
    "start_time": "2023-04-08T15:57:40.829Z"
   },
   {
    "duration": 12,
    "start_time": "2023-04-08T15:57:40.872Z"
   },
   {
    "duration": 12,
    "start_time": "2023-04-08T15:57:40.886Z"
   },
   {
    "duration": 7,
    "start_time": "2023-04-08T15:57:40.899Z"
   },
   {
    "duration": 112,
    "start_time": "2023-04-08T15:57:40.908Z"
   },
   {
    "duration": 179,
    "start_time": "2023-04-08T15:57:41.021Z"
   },
   {
    "duration": 98,
    "start_time": "2023-04-08T15:57:41.202Z"
   },
   {
    "duration": 153,
    "start_time": "2023-04-08T15:57:41.302Z"
   },
   {
    "duration": 97,
    "start_time": "2023-04-08T15:57:41.458Z"
   },
   {
    "duration": 230,
    "start_time": "2023-04-08T15:57:41.557Z"
   },
   {
    "duration": 398,
    "start_time": "2023-04-08T15:57:41.789Z"
   },
   {
    "duration": 176,
    "start_time": "2023-04-08T15:57:42.189Z"
   },
   {
    "duration": 4015,
    "start_time": "2023-04-08T15:57:42.367Z"
   },
   {
    "duration": 152,
    "start_time": "2023-04-08T15:57:46.384Z"
   },
   {
    "duration": 4426,
    "start_time": "2023-04-08T15:57:46.538Z"
   },
   {
    "duration": 161,
    "start_time": "2023-04-08T15:57:50.966Z"
   },
   {
    "duration": 21069,
    "start_time": "2023-04-08T15:57:51.129Z"
   },
   {
    "duration": 154,
    "start_time": "2023-04-08T15:58:12.200Z"
   },
   {
    "duration": 5,
    "start_time": "2023-04-08T15:58:12.355Z"
   },
   {
    "duration": 20,
    "start_time": "2023-04-08T15:58:12.361Z"
   },
   {
    "duration": 34,
    "start_time": "2023-04-08T15:58:12.383Z"
   },
   {
    "duration": 25,
    "start_time": "2023-04-08T15:58:12.420Z"
   },
   {
    "duration": 206,
    "start_time": "2023-04-08T15:58:12.449Z"
   },
   {
    "duration": 142,
    "start_time": "2023-04-08T15:59:04.971Z"
   },
   {
    "duration": 1565,
    "start_time": "2023-04-08T15:59:11.531Z"
   },
   {
    "duration": 40,
    "start_time": "2023-04-08T15:59:13.098Z"
   },
   {
    "duration": 10,
    "start_time": "2023-04-08T15:59:13.140Z"
   },
   {
    "duration": 20,
    "start_time": "2023-04-08T15:59:13.152Z"
   },
   {
    "duration": 45,
    "start_time": "2023-04-08T15:59:13.175Z"
   },
   {
    "duration": 115,
    "start_time": "2023-04-08T15:59:13.221Z"
   },
   {
    "duration": 164,
    "start_time": "2023-04-08T15:59:13.338Z"
   },
   {
    "duration": 103,
    "start_time": "2023-04-08T15:59:13.504Z"
   },
   {
    "duration": 170,
    "start_time": "2023-04-08T15:59:13.609Z"
   },
   {
    "duration": 179,
    "start_time": "2023-04-08T15:59:13.782Z"
   },
   {
    "duration": 166,
    "start_time": "2023-04-08T15:59:13.963Z"
   },
   {
    "duration": 378,
    "start_time": "2023-04-08T15:59:14.132Z"
   },
   {
    "duration": 157,
    "start_time": "2023-04-08T15:59:14.512Z"
   },
   {
    "duration": 2973,
    "start_time": "2023-04-08T15:59:14.671Z"
   },
   {
    "duration": 139,
    "start_time": "2023-04-08T15:59:17.646Z"
   },
   {
    "duration": 4501,
    "start_time": "2023-04-08T15:59:17.787Z"
   },
   {
    "duration": 186,
    "start_time": "2023-04-08T15:59:22.290Z"
   },
   {
    "duration": 21469,
    "start_time": "2023-04-08T15:59:22.479Z"
   },
   {
    "duration": 152,
    "start_time": "2023-04-08T15:59:43.950Z"
   },
   {
    "duration": 5,
    "start_time": "2023-04-08T15:59:44.104Z"
   },
   {
    "duration": 7,
    "start_time": "2023-04-08T15:59:44.117Z"
   },
   {
    "duration": 14,
    "start_time": "2023-04-08T15:59:44.126Z"
   },
   {
    "duration": 7,
    "start_time": "2023-04-08T15:59:44.141Z"
   },
   {
    "duration": 149,
    "start_time": "2023-04-08T16:00:56.028Z"
   },
   {
    "duration": 20931,
    "start_time": "2023-04-08T16:00:59.112Z"
   },
   {
    "duration": 163,
    "start_time": "2023-04-08T16:01:20.206Z"
   },
   {
    "duration": 77,
    "start_time": "2023-04-08T16:02:06.629Z"
   },
   {
    "duration": 82,
    "start_time": "2023-04-08T16:02:40.549Z"
   },
   {
    "duration": 174,
    "start_time": "2023-04-08T16:03:03.938Z"
   },
   {
    "duration": 121,
    "start_time": "2023-04-08T16:03:12.548Z"
   },
   {
    "duration": 29,
    "start_time": "2023-04-08T16:06:21.994Z"
   },
   {
    "duration": 20,
    "start_time": "2023-04-08T16:10:16.714Z"
   },
   {
    "duration": 182,
    "start_time": "2023-04-08T16:11:22.125Z"
   },
   {
    "duration": 209,
    "start_time": "2023-04-08T16:11:37.951Z"
   },
   {
    "duration": 131,
    "start_time": "2023-04-08T16:11:58.074Z"
   },
   {
    "duration": 181,
    "start_time": "2023-04-08T16:12:10.463Z"
   },
   {
    "duration": 186,
    "start_time": "2023-04-08T16:12:34.800Z"
   },
   {
    "duration": 188,
    "start_time": "2023-04-08T16:12:55.991Z"
   },
   {
    "duration": 1610,
    "start_time": "2023-04-08T16:14:59.500Z"
   },
   {
    "duration": 44,
    "start_time": "2023-04-08T16:15:01.112Z"
   },
   {
    "duration": 24,
    "start_time": "2023-04-08T16:15:01.158Z"
   },
   {
    "duration": 60,
    "start_time": "2023-04-08T16:15:01.184Z"
   },
   {
    "duration": 97,
    "start_time": "2023-04-08T16:15:01.247Z"
   },
   {
    "duration": 168,
    "start_time": "2023-04-08T16:15:01.346Z"
   },
   {
    "duration": 178,
    "start_time": "2023-04-08T16:15:01.517Z"
   },
   {
    "duration": 107,
    "start_time": "2023-04-08T16:15:01.698Z"
   },
   {
    "duration": 199,
    "start_time": "2023-04-08T16:15:01.808Z"
   },
   {
    "duration": 118,
    "start_time": "2023-04-08T16:15:02.009Z"
   },
   {
    "duration": 239,
    "start_time": "2023-04-08T16:15:02.129Z"
   },
   {
    "duration": 396,
    "start_time": "2023-04-08T16:15:02.370Z"
   },
   {
    "duration": 163,
    "start_time": "2023-04-08T16:15:02.768Z"
   },
   {
    "duration": 3046,
    "start_time": "2023-04-08T16:15:02.935Z"
   },
   {
    "duration": 159,
    "start_time": "2023-04-08T16:15:05.983Z"
   },
   {
    "duration": 4492,
    "start_time": "2023-04-08T16:15:06.144Z"
   },
   {
    "duration": 170,
    "start_time": "2023-04-08T16:15:10.637Z"
   },
   {
    "duration": 88,
    "start_time": "2023-04-08T16:15:10.809Z"
   },
   {
    "duration": 0,
    "start_time": "2023-04-08T16:15:10.899Z"
   },
   {
    "duration": 0,
    "start_time": "2023-04-08T16:15:10.900Z"
   },
   {
    "duration": 0,
    "start_time": "2023-04-08T16:15:10.901Z"
   },
   {
    "duration": 0,
    "start_time": "2023-04-08T16:15:10.902Z"
   },
   {
    "duration": 0,
    "start_time": "2023-04-08T16:15:10.903Z"
   },
   {
    "duration": 0,
    "start_time": "2023-04-08T16:15:10.904Z"
   },
   {
    "duration": 0,
    "start_time": "2023-04-08T16:15:10.905Z"
   },
   {
    "duration": 32,
    "start_time": "2023-04-08T16:22:57.751Z"
   },
   {
    "duration": 18,
    "start_time": "2023-04-08T16:22:59.036Z"
   },
   {
    "duration": 208,
    "start_time": "2023-04-08T16:22:59.620Z"
   }
  ],
  "kernelspec": {
   "display_name": "Python 3 (ipykernel)",
   "language": "python",
   "name": "python3"
  },
  "language_info": {
   "codemirror_mode": {
    "name": "ipython",
    "version": 3
   },
   "file_extension": ".py",
   "mimetype": "text/x-python",
   "name": "python",
   "nbconvert_exporter": "python",
   "pygments_lexer": "ipython3",
   "version": "3.9.5"
  },
  "toc": {
   "base_numbering": 1,
   "nav_menu": {},
   "number_sections": true,
   "sideBar": true,
   "skip_h1_title": true,
   "title_cell": "Table of Contents",
   "title_sidebar": "Contents",
   "toc_cell": false,
   "toc_position": {
    "height": "calc(100% - 180px)",
    "left": "10px",
    "top": "150px",
    "width": "359.484px"
   },
   "toc_section_display": true,
   "toc_window_display": true
  }
 },
 "nbformat": 4,
 "nbformat_minor": 4
}
